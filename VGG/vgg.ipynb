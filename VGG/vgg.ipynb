{
 "cells": [
  {
   "cell_type": "code",
   "execution_count": 1,
   "id": "69ba9db3",
   "metadata": {},
   "outputs": [],
   "source": [
    "import torch\n",
    "from torch import nn"
   ]
  },
  {
   "cell_type": "code",
   "execution_count": 2,
   "id": "564b605a",
   "metadata": {},
   "outputs": [],
   "source": [
    "cfgs = { \"A\": [64, \"M\", 128, \"M\", 256, 256, \"M\", 512, 512, \"M\", 512, 512, \"M\"],\n",
    "         \"B\": [64, 64, \"M\", 128, 128, \"M\", 256, 256, \"M\", 512, 512, \"M\", 512, 512, \"M\"],\n",
    "         \"D\": [64, 64, \"M\", 128, 128, \"M\", 256, 256, 256, \"M\", 512, 512, 512, \"M\", 512, 512, 512, \"M\"],\n",
    "         \"E\": [64, 64, \"M\", 128, 128, \"M\", 256, 256, 256, 256, \"M\", 512, 512, 512, 512, \"M\", 512, 512, 512, 512, \"M\"] }"
   ]
  },
  {
   "cell_type": "code",
   "execution_count": 3,
   "id": "1ff82fb2",
   "metadata": {},
   "outputs": [],
   "source": [
    "class VGG(nn.Module):\n",
    "    def __init__(self, cfg, batch_norm, num_classes = 1000, init_weights = True, drop_p = 0.5):\n",
    "        super().__init__()\n",
    "\n",
    "        self.features = self.make_layers(cfg, batch_norm)\n",
    "        self.avgpool = nn.AdaptiveAvgPool2d((7, 7)) # 7x7 이 되도록 avg pooling 하는 녀석\n",
    "        self.classifier = nn.Sequential(nn.Linear(512 * 7 * 7, 4096),\n",
    "                                        nn.ReLU(),\n",
    "                                        nn.Dropout(p=drop_p),\n",
    "                                        nn.Linear(4096, 4096),\n",
    "                                        nn.ReLU(),\n",
    "                                        nn.Dropout(p=drop_p),\n",
    "                                        nn.Linear(4096, num_classes))\n",
    "\n",
    "        if init_weights:\n",
    "            for m in self.modules():\n",
    "                if isinstance(m, nn.Conv2d):\n",
    "                    nn.init.kaiming_normal_(m.weight, mode=\"fan_out\", nonlinearity=\"relu\")\n",
    "                    if m.bias is not None:\n",
    "                        nn.init.constant_(m.bias, 0)\n",
    "                elif isinstance(m, nn.Linear):\n",
    "                    nn.init.normal_(m.weight, 0, 0.01)\n",
    "                    nn.init.constant_(m.bias, 0)\n",
    "\n",
    "    def forward(self, x):\n",
    "        x = self.features(x)\n",
    "        x = self.avgpool(x)\n",
    "        x = torch.flatten(x, 1)\n",
    "        x = self.classifier(x)\n",
    "        return x\n",
    "\n",
    "    def make_layers(self, cfg, batch_norm = False):\n",
    "        layers = []\n",
    "        in_channels = 3\n",
    "        for v in cfg:\n",
    "            if type(v) == int:\n",
    "                if batch_norm:\n",
    "                    layers += [nn.Conv2d(in_channels, v, 3, padding=1),\n",
    "                               nn.BatchNorm2d(v),\n",
    "                               nn.ReLU()]\n",
    "                else:\n",
    "                    layers += [nn.Conv2d(in_channels, v, 3, padding=1),\n",
    "                               nn.ReLU()]\n",
    "                in_channels = v\n",
    "            else:\n",
    "                layers += [nn.MaxPool2d(2)]\n",
    "        return nn.Sequential(*layers)"
   ]
  },
  {
   "cell_type": "code",
   "execution_count": 4,
   "id": "5e7c5eb5",
   "metadata": {},
   "outputs": [
    {
     "name": "stdout",
     "output_type": "stream",
     "text": [
      "torch.Size([2, 3, 4, 4])\n",
      "tensor([[[[-0.2647, -0.2647,  0.3879,  0.3879],\n",
      "          [-0.2647, -0.2647,  0.3879,  0.3879],\n",
      "          [ 0.1200,  0.1200,  0.7236,  0.7236],\n",
      "          [ 0.1200,  0.1200,  0.7236,  0.7236]],\n",
      "\n",
      "         [[ 1.3678,  1.3678, -0.7123, -0.7123],\n",
      "          [ 1.3678,  1.3678, -0.7123, -0.7123],\n",
      "          [-0.7836, -0.7836, -0.4257, -0.4257],\n",
      "          [-0.7836, -0.7836, -0.4257, -0.4257]],\n",
      "\n",
      "         [[-0.1046, -0.1046,  1.9821,  1.9821],\n",
      "          [-0.1046, -0.1046,  1.9821,  1.9821],\n",
      "          [ 1.4557,  1.4557,  0.1791,  0.1791],\n",
      "          [ 1.4557,  1.4557,  0.1791,  0.1791]]],\n",
      "\n",
      "\n",
      "        [[[ 0.9712,  0.9712, -0.2422, -0.2422],\n",
      "          [ 0.9712,  0.9712, -0.2422, -0.2422],\n",
      "          [ 1.2731,  1.2731,  0.2582,  0.2582],\n",
      "          [ 1.2731,  1.2731,  0.2582,  0.2582]],\n",
      "\n",
      "         [[-1.7241, -1.7241,  1.1013,  1.1013],\n",
      "          [-1.7241, -1.7241,  1.1013,  1.1013],\n",
      "          [ 0.0206,  0.0206,  1.0567,  1.0567],\n",
      "          [ 0.0206,  0.0206,  1.0567,  1.0567]],\n",
      "\n",
      "         [[ 1.0401,  1.0401, -0.0237, -0.0237],\n",
      "          [ 1.0401,  1.0401, -0.0237, -0.0237],\n",
      "          [ 0.4748,  0.4748,  1.3541,  1.3541],\n",
      "          [ 0.4748,  0.4748,  1.3541,  1.3541]]]])\n"
     ]
    }
   ],
   "source": [
    "avgpool = nn.AdaptiveAvgPool2d((4, 4))\n",
    "print(avgpool(torch.randn(2,3,32,32)).shape)\n",
    "print(avgpool(torch.randn(2,3,2,2))) # 작은 놈이 들어오면 늘려서라도 맞춰준다 # 값을 복제 시켜놓음"
   ]
  },
  {
   "cell_type": "code",
   "execution_count": 5,
   "id": "766758bc",
   "metadata": {},
   "outputs": [
    {
     "name": "stdout",
     "output_type": "stream",
     "text": [
      "Collecting torchinfo\n",
      "  Downloading torchinfo-1.8.0-py3-none-any.whl (23 kB)\n",
      "Installing collected packages: torchinfo\n",
      "Successfully installed torchinfo-1.8.0\n"
     ]
    },
    {
     "data": {
      "text/plain": [
       "==========================================================================================\n",
       "Layer (type:depth-idx)                   Output Shape              Param #\n",
       "==========================================================================================\n",
       "VGG                                      [2, 1000]                 --\n",
       "├─Sequential: 1-1                        [2, 512, 7, 7]            --\n",
       "│    └─Conv2d: 2-1                       [2, 64, 224, 224]         1,792\n",
       "│    └─ReLU: 2-2                         [2, 64, 224, 224]         --\n",
       "│    └─Conv2d: 2-3                       [2, 64, 224, 224]         36,928\n",
       "│    └─ReLU: 2-4                         [2, 64, 224, 224]         --\n",
       "│    └─MaxPool2d: 2-5                    [2, 64, 112, 112]         --\n",
       "│    └─Conv2d: 2-6                       [2, 128, 112, 112]        73,856\n",
       "│    └─ReLU: 2-7                         [2, 128, 112, 112]        --\n",
       "│    └─Conv2d: 2-8                       [2, 128, 112, 112]        147,584\n",
       "│    └─ReLU: 2-9                         [2, 128, 112, 112]        --\n",
       "│    └─MaxPool2d: 2-10                   [2, 128, 56, 56]          --\n",
       "│    └─Conv2d: 2-11                      [2, 256, 56, 56]          295,168\n",
       "│    └─ReLU: 2-12                        [2, 256, 56, 56]          --\n",
       "│    └─Conv2d: 2-13                      [2, 256, 56, 56]          590,080\n",
       "│    └─ReLU: 2-14                        [2, 256, 56, 56]          --\n",
       "│    └─Conv2d: 2-15                      [2, 256, 56, 56]          590,080\n",
       "│    └─ReLU: 2-16                        [2, 256, 56, 56]          --\n",
       "│    └─Conv2d: 2-17                      [2, 256, 56, 56]          590,080\n",
       "│    └─ReLU: 2-18                        [2, 256, 56, 56]          --\n",
       "│    └─MaxPool2d: 2-19                   [2, 256, 28, 28]          --\n",
       "│    └─Conv2d: 2-20                      [2, 512, 28, 28]          1,180,160\n",
       "│    └─ReLU: 2-21                        [2, 512, 28, 28]          --\n",
       "│    └─Conv2d: 2-22                      [2, 512, 28, 28]          2,359,808\n",
       "│    └─ReLU: 2-23                        [2, 512, 28, 28]          --\n",
       "│    └─Conv2d: 2-24                      [2, 512, 28, 28]          2,359,808\n",
       "│    └─ReLU: 2-25                        [2, 512, 28, 28]          --\n",
       "│    └─Conv2d: 2-26                      [2, 512, 28, 28]          2,359,808\n",
       "│    └─ReLU: 2-27                        [2, 512, 28, 28]          --\n",
       "│    └─MaxPool2d: 2-28                   [2, 512, 14, 14]          --\n",
       "│    └─Conv2d: 2-29                      [2, 512, 14, 14]          2,359,808\n",
       "│    └─ReLU: 2-30                        [2, 512, 14, 14]          --\n",
       "│    └─Conv2d: 2-31                      [2, 512, 14, 14]          2,359,808\n",
       "│    └─ReLU: 2-32                        [2, 512, 14, 14]          --\n",
       "│    └─Conv2d: 2-33                      [2, 512, 14, 14]          2,359,808\n",
       "│    └─ReLU: 2-34                        [2, 512, 14, 14]          --\n",
       "│    └─Conv2d: 2-35                      [2, 512, 14, 14]          2,359,808\n",
       "│    └─ReLU: 2-36                        [2, 512, 14, 14]          --\n",
       "│    └─MaxPool2d: 2-37                   [2, 512, 7, 7]            --\n",
       "├─AdaptiveAvgPool2d: 1-2                 [2, 512, 7, 7]            --\n",
       "├─Sequential: 1-3                        [2, 1000]                 --\n",
       "│    └─Linear: 2-38                      [2, 4096]                 102,764,544\n",
       "│    └─ReLU: 2-39                        [2, 4096]                 --\n",
       "│    └─Dropout: 2-40                     [2, 4096]                 --\n",
       "│    └─Linear: 2-41                      [2, 4096]                 16,781,312\n",
       "│    └─ReLU: 2-42                        [2, 4096]                 --\n",
       "│    └─Dropout: 2-43                     [2, 4096]                 --\n",
       "│    └─Linear: 2-44                      [2, 1000]                 4,097,000\n",
       "==========================================================================================\n",
       "Total params: 143,667,240\n",
       "Trainable params: 143,667,240\n",
       "Non-trainable params: 0\n",
       "Total mult-adds (G): 39.29\n",
       "==========================================================================================\n",
       "Input size (MB): 1.20\n",
       "Forward/backward pass size (MB): 237.78\n",
       "Params size (MB): 574.67\n",
       "Estimated Total Size (MB): 813.65\n",
       "=========================================================================================="
      ]
     },
     "execution_count": 5,
     "metadata": {},
     "output_type": "execute_result"
    }
   ],
   "source": [
    "model = VGG(cfgs[\"E\"], batch_norm=False)\n",
    "# print(model)\n",
    "!pip install torchinfo\n",
    "from torchinfo import summary\n",
    "summary(model, input_size=(2,3,224,224), device='cpu')"
   ]
  },
  {
   "cell_type": "code",
   "execution_count": 6,
   "id": "df58827c",
   "metadata": {},
   "outputs": [
    {
     "name": "stdout",
     "output_type": "stream",
     "text": [
      "torch.Size([2, 1000])\n"
     ]
    }
   ],
   "source": [
    "x = torch.randn(2,3,224,224)\n",
    "print(model(x).shape)"
   ]
  },
  {
   "cell_type": "code",
   "execution_count": null,
   "id": "1ca31566",
   "metadata": {},
   "outputs": [],
   "source": []
  }
 ],
 "metadata": {
  "kernelspec": {
   "display_name": "Python 3 (ipykernel)",
   "language": "python",
   "name": "python3"
  },
  "language_info": {
   "codemirror_mode": {
    "name": "ipython",
    "version": 3
   },
   "file_extension": ".py",
   "mimetype": "text/x-python",
   "name": "python",
   "nbconvert_exporter": "python",
   "pygments_lexer": "ipython3",
   "version": "3.8.16"
  }
 },
 "nbformat": 4,
 "nbformat_minor": 5
}
